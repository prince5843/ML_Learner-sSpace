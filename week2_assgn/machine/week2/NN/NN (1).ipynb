{
 "cells": [
  {
   "cell_type": "code",
   "execution_count": 13,
   "id": "20c85e0e",
   "metadata": {},
   "outputs": [],
   "source": [
    "import numpy as np\n",
    "import tensorflow as tf\n",
    "from tensorflow.keras.models import Sequential\n",
    "from tensorflow.keras.layers import Dense, Flatten\n",
    "from tensorflow.keras.preprocessing.image import ImageDataGenerator\n",
    "from sklearn.model_selection import train_test_split\n",
    "from tensorflow.keras.preprocessing.image import img_to_array, load_img\n",
    "import os"
   ]
  },
  {
   "cell_type": "code",
   "execution_count": 14,
   "id": "b4583b9b",
   "metadata": {},
   "outputs": [
    {
     "name": "stdout",
     "output_type": "stream",
     "text": [
      "Found 269 files belonging to 2 classes.\n"
     ]
    }
   ],
   "source": [
    "dataset = tf.keras.preprocessing.image_dataset_from_directory(r\"C:\\Users\\HP\\Downloads\\homer_bart\",image_size=(64, 64),label_mode = \"binary\")\n",
    "train_data = dataset.take(8)\n",
    "test_data = dataset.skip(8)\n",
    "train_data = train_data.cache().shuffle(1000).prefetch(buffer_size=tf.data.AUTOTUNE)\n",
    "test_data = test_data.cache().shuffle(1000).prefetch(buffer_size=tf.data.AUTOTUNE)"
   ]
  },
  {
   "cell_type": "code",
   "execution_count": 15,
   "id": "c2b17d53",
   "metadata": {},
   "outputs": [],
   "source": [
    "preprocess = tf.keras.Sequential(\n",
    "    [tf.keras.layers.Rescaling(1.0/255)]\n",
    ")\n",
    "NN = tf.keras.models.Sequential([\n",
    "    tf.keras.layers.Flatten(input_shape=(64, 64, 3)),\n",
    "    preprocess,\n",
    "    tf.keras.layers.Dense(units=512, activation='relu'),\n",
    "    tf.keras.layers.Dense(units=256, activation='relu'),\n",
    "    tf.keras.layers.Dense(units=128, activation='relu'),\n",
    "    tf.keras.layers.Dense(units=1, activation='sigmoid')\n",
    "])"
   ]
  },
  {
   "cell_type": "code",
   "execution_count": 16,
   "id": "b3d5b4e4",
   "metadata": {},
   "outputs": [],
   "source": [
    "NN.compile(optimizer='adam',\n",
    "           loss='binary_crossentropy',\n",
    "           metrics=['accuracy'])"
   ]
  },
  {
   "cell_type": "code",
   "execution_count": 17,
   "id": "ee4397ab",
   "metadata": {},
   "outputs": [
    {
     "name": "stdout",
     "output_type": "stream",
     "text": [
      "Epoch 1/20\n",
      "8/8 [==============================] - 1s 79ms/step - loss: 3.9557 - accuracy: 0.5820 - val_loss: 2.5239 - val_accuracy: 0.1538\n",
      "Epoch 2/20\n",
      "8/8 [==============================] - 0s 52ms/step - loss: 1.4135 - accuracy: 0.4258 - val_loss: 0.3861 - val_accuracy: 0.8462\n",
      "Epoch 3/20\n",
      "8/8 [==============================] - 0s 49ms/step - loss: 0.9809 - accuracy: 0.5078 - val_loss: 0.8351 - val_accuracy: 0.1538\n",
      "Epoch 4/20\n",
      "8/8 [==============================] - 0s 47ms/step - loss: 0.5964 - accuracy: 0.6992 - val_loss: 0.4207 - val_accuracy: 0.9231\n",
      "Epoch 5/20\n",
      "8/8 [==============================] - 0s 49ms/step - loss: 0.5973 - accuracy: 0.6758 - val_loss: 0.2533 - val_accuracy: 0.8462\n",
      "Epoch 6/20\n",
      "8/8 [==============================] - 0s 48ms/step - loss: 0.6768 - accuracy: 0.6484 - val_loss: 0.9634 - val_accuracy: 0.3077\n",
      "Epoch 7/20\n",
      "8/8 [==============================] - 0s 47ms/step - loss: 0.5124 - accuracy: 0.7539 - val_loss: 0.2794 - val_accuracy: 1.0000\n",
      "Epoch 8/20\n",
      "8/8 [==============================] - 0s 49ms/step - loss: 0.4722 - accuracy: 0.7891 - val_loss: 0.8595 - val_accuracy: 0.5385\n",
      "Epoch 9/20\n",
      "8/8 [==============================] - 0s 47ms/step - loss: 0.6243 - accuracy: 0.6719 - val_loss: 0.2161 - val_accuracy: 1.0000\n",
      "Epoch 10/20\n",
      "8/8 [==============================] - 0s 47ms/step - loss: 0.5170 - accuracy: 0.7539 - val_loss: 0.2155 - val_accuracy: 0.8462\n",
      "Epoch 11/20\n",
      "8/8 [==============================] - 0s 49ms/step - loss: 0.6684 - accuracy: 0.7031 - val_loss: 0.1827 - val_accuracy: 0.9231\n",
      "Epoch 12/20\n",
      "8/8 [==============================] - 0s 48ms/step - loss: 0.5305 - accuracy: 0.7148 - val_loss: 0.8696 - val_accuracy: 0.5385\n",
      "Epoch 13/20\n",
      "8/8 [==============================] - 0s 51ms/step - loss: 0.5392 - accuracy: 0.6992 - val_loss: 0.8800 - val_accuracy: 0.5385\n",
      "Epoch 14/20\n",
      "8/8 [==============================] - 0s 50ms/step - loss: 0.4974 - accuracy: 0.7383 - val_loss: 0.5852 - val_accuracy: 0.6154\n",
      "Epoch 15/20\n",
      "8/8 [==============================] - 0s 48ms/step - loss: 0.4678 - accuracy: 0.7734 - val_loss: 0.1499 - val_accuracy: 1.0000\n",
      "Epoch 16/20\n",
      "8/8 [==============================] - 0s 49ms/step - loss: 0.3656 - accuracy: 0.8047 - val_loss: 0.2861 - val_accuracy: 0.8462\n",
      "Epoch 17/20\n",
      "8/8 [==============================] - 0s 48ms/step - loss: 0.3130 - accuracy: 0.8516 - val_loss: 0.7400 - val_accuracy: 0.6154\n",
      "Epoch 18/20\n",
      "8/8 [==============================] - 0s 47ms/step - loss: 0.4111 - accuracy: 0.8008 - val_loss: 0.2613 - val_accuracy: 0.8462\n",
      "Epoch 19/20\n",
      "8/8 [==============================] - 0s 47ms/step - loss: 0.2689 - accuracy: 0.8828 - val_loss: 0.1791 - val_accuracy: 0.9231\n",
      "Epoch 20/20\n",
      "8/8 [==============================] - 0s 51ms/step - loss: 0.2535 - accuracy: 0.8984 - val_loss: 0.1040 - val_accuracy: 1.0000\n"
     ]
    }
   ],
   "source": [
    "history = NN.fit(train_data,\n",
    "                 epochs=20,\n",
    "                 validation_data=test_data)"
   ]
  },
  {
   "cell_type": "code",
   "execution_count": 18,
   "id": "269f3c99",
   "metadata": {},
   "outputs": [
    {
     "name": "stdout",
     "output_type": "stream",
     "text": [
      "1/1 [==============================] - 0s 16ms/step - loss: 0.1040 - accuracy: 1.0000\n",
      "Test Accuracy: 100.00%\n"
     ]
    }
   ],
   "source": [
    "loss, accuracy = NN.evaluate(test_data)\n",
    "print(f\"Test Accuracy: {accuracy * 100:.2f}%\")"
   ]
  },
  {
   "cell_type": "code",
   "execution_count": null,
   "id": "3d86aa77",
   "metadata": {},
   "outputs": [],
   "source": [
    "#please run it more than one time"
   ]
  },
  {
   "cell_type": "code",
   "execution_count": null,
   "id": "96c36247",
   "metadata": {},
   "outputs": [],
   "source": []
  }
 ],
 "metadata": {
  "kernelspec": {
   "display_name": "Python 3 (ipykernel)",
   "language": "python",
   "name": "python3"
  },
  "language_info": {
   "codemirror_mode": {
    "name": "ipython",
    "version": 3
   },
   "file_extension": ".py",
   "mimetype": "text/x-python",
   "name": "python",
   "nbconvert_exporter": "python",
   "pygments_lexer": "ipython3",
   "version": "3.11.5"
  }
 },
 "nbformat": 4,
 "nbformat_minor": 5
}
